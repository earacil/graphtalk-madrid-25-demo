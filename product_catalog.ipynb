{
 "cells": [
  {
   "cell_type": "markdown",
   "id": "69543c98",
   "metadata": {
    "id": "69543c98"
   },
   "source": [
    "# Demo de GraphRAG  \n",
    "Este notebook muestra cómo:\n",
    "- Convertir descripciones de productos en vectores (“embeddings”).  \n",
    "- Buscar productos por similitud semántica.  \n",
    "- Contextualizar consultas usando metadatos del grafo.  \n",
    "- Generar respuestas enriquecidas con LLM.  "
   ]
  },
  {
   "cell_type": "markdown",
   "id": "d8edfcbb",
   "metadata": {
    "id": "d8edfcbb"
   },
   "source": [
    "## 0. Preparación Entorno\n",
    "- Librerías Python\n",
    "- Instancia Neo4j\n",
    "- Key OpenAI"
   ]
  },
  {
   "cell_type": "code",
   "execution_count": 2,
   "id": "78e5b545",
   "metadata": {
    "id": "78e5b545",
    "outputId": "54ff73ee-adf0-45b2-cebe-1238d2726be0"
   },
   "outputs": [],
   "source": [
    "import os\n",
    "from dotenv import load_dotenv\n",
    "from neo4j import GraphDatabase, RoutingControl\n",
    "from langchain.embeddings import OpenAIEmbeddings\n",
    "from langchain.vectorstores.neo4j_vector import Neo4jVector\n",
    "from langchain import PromptTemplate, LLMChain\n",
    "from langchain.embeddings import OpenAIEmbeddings\n",
    "from langchain.vectorstores import FAISS\n",
    "from langchain.chat_models import ChatOpenAI\n",
    "from langchain.schema import Document\n",
    "\n",
    "load_dotenv(override=True)\n",
    "uri = os.getenv(\"NEO4J_URI\")\n",
    "user = os.getenv(\"NEO4J_USER\")\n",
    "password = os.getenv(\"NEO4J_PASSWORD\")\n",
    "os.environ['OPENAI_API_KEY'] = os.getenv('OPENAI_API_KEY')\n",
    "embedding_model = OpenAIEmbeddings()"
   ]
  },
  {
   "cell_type": "markdown",
   "id": "9c62ea87-fe69-4746-921a-4176d7bad39e",
   "metadata": {},
   "source": [
    "## 1. Carga de datos\n",
    "Desde la consola de **Aura** a partir de un CSV"
   ]
  },
  {
   "cell_type": "markdown",
   "id": "053ca5bb-1f7e-41d2-876f-82883bd6ae0e",
   "metadata": {},
   "source": [
    "## 2. Embeddings y Similaridad\n",
    "\n",
    "En esta sección conectamos con Neo4j, generamos los embeddings de los nodos `Product` y los extraemos para poder hacer búsquedas semánticas rápidas\n"
   ]
  },
  {
   "cell_type": "code",
   "execution_count": null,
   "id": "825dba0c-f5e9-4c15-af0a-bc804b04914c",
   "metadata": {},
   "outputs": [],
   "source": [
    "vectorstore = Neo4jVector.from_existing_graph(\n",
    "    embedding=embedding_model,\n",
    "    url=uri,\n",
    "    username=user,\n",
    "    password=password,\n",
    "    index_name='product',\n",
    "    node_label=\"Product\",\n",
    "    embedding_node_property=\"embedding\",\n",
    "    text_node_properties=[\"description\",\"name\"]\n",
    ")"
   ]
  },
  {
   "cell_type": "markdown",
   "id": "4d92ae6e-f96a-499e-a8c5-7942c8744450",
   "metadata": {},
   "source": [
    "> Dada una frase de usuario, recuperamos los 𝐤 productos cuyas `descripciones` estén más cerca en el espacio semántico. Incluye score. "
   ]
  },
  {
   "cell_type": "code",
   "execution_count": 3,
   "id": "f9308df5-292c-412f-a669-65c87cf4eddc",
   "metadata": {},
   "outputs": [],
   "source": [
    "#question = \"\"\"Busco un frigorífico silencioso para un apartamento pequeño.\"\"\"\n",
    "question = \"\"\"¿Qué horno es adecuado para familias numerosas?\"\"\"\n",
    "#question = \"\"\"Quiero un lavavajillas con control por voz.\"\"\"\n",
    "#question = \"\"\"¿Qué lavadora está diseñada para uso frecuente y tiene diseño práctico?\"\"\""
   ]
  },
  {
   "cell_type": "code",
   "execution_count": null,
   "id": "0330ba8f-192d-4ecf-bf64-3410159c642f",
   "metadata": {},
   "outputs": [
    {
     "name": "stdout",
     "output_type": "stream",
     "text": [
      "Score: 0.9167\n",
      "\n",
      "description: HeatWave X631 es un horno sostenible y ideal para familias numerosas. Incorpora estructura interna modular, lo que lo hace destacar frente a otros modelos de su clase. Su diseño responde a necesidades específicas con un enfoque práctico y funcional.\n",
      "name: KüchenPro HeatWave X631\n",
      "---\n",
      "Score: 0.9149\n",
      "\n",
      "description: HeatMaster Q114 es un horno versátil y ideal para familias numerosas. Incorpora algoritmos de optimización energética, lo que lo hace destacar frente a otros modelos de su clase. Su diseño responde a necesidades específicas con un enfoque práctico y funcional.\n",
      "name: HomeEase HeatMaster Q114\n",
      "---\n",
      "Score: 0.9106\n",
      "\n",
      "description: SteamChef Z618 es un horno versátil y ideal para familias numerosas. Incorpora algoritmos de optimización energética, lo que lo hace destacar frente a otros modelos de su clase. Su diseño responde a necesidades específicas con un enfoque práctico y funcional.\n",
      "name: ChillCore SteamChef Z618\n",
      "---\n"
     ]
    }
   ],
   "source": [
    "results = vectorstore.similarity_search_with_score(question, k=3)\n",
    "for doc, score in results:\n",
    "    print(f\"Score: {score:.4f}\")\n",
    "    print(f\"{doc.page_content}\")\n",
    "    print(\"---\")"
   ]
  },
  {
   "cell_type": "markdown",
   "id": "17eb56c2-1a95-4dd0-9b9d-2ebd704b7096",
   "metadata": {},
   "source": [
    "## 3. Contextualización con Neo4j  \n",
    "1. Tras la búsqueda semántica, usamos Cypher para obtener `categoría` y `marca`.\n",
    "2. Combinamos vectores + grafo para **enriquecer la respuesta** con `rating`."
   ]
  },
  {
   "cell_type": "code",
   "execution_count": null,
   "id": "2a693adc-2f5c-47b8-a5ac-84925314de4a",
   "metadata": {},
   "outputs": [],
   "source": [
    "enrich_for_summary_query = \"\"\"\n",
    "match (c:Category)<-[:BELONGS_TO]-(node:Product)-[:BRANDED_BY]->(b:Brand)\n",
    "optional match (node)<-[r:RATING]-(:Customer)\n",
    "with node, c, b, avg(r.value) as avg_rating, score\n",
    "return node.description AS text, score,\n",
    "    node {id: node.productid, name: node.name, description: node.description,  brand: b.name, category: c.name, avg_rating: avg_rating} \n",
    "as metadata\n",
    "\"\"\"\n",
    "\n",
    "contextualized_vectorstore = Neo4jVector.from_existing_index(\n",
    "    OpenAIEmbeddings(),\n",
    "    url=uri,\n",
    "    username=user,\n",
    "    password=password,\n",
    "    index_name=\"product\",\n",
    "    retrieval_query=enrich_for_summary_query,\n",
    ")"
   ]
  },
  {
   "cell_type": "markdown",
   "id": "7a4fe66b-a664-4763-8e54-d1fd88349f2f",
   "metadata": {},
   "source": [
    "> Se ejecuta de nuevo similarity, esta vez con el contexto del grafo"
   ]
  },
  {
   "cell_type": "code",
   "execution_count": null,
   "id": "6fbaf760-37a6-4ad0-bdd1-b4340c3ae4ea",
   "metadata": {},
   "outputs": [],
   "source": [
    "def kg_product_recommendations(input):\n",
    "  response = contextualized_vectorstore.similarity_search_with_score(input, k=3)\n",
    "  return \"\\n\".join([\n",
    "        f\"- {doc.metadata.get('name')}: {doc.page_content} Rating: {doc.metadata.get('avg_rating')}. Categoria: {doc.metadata.get('category')}. Marca: {doc.metadata.get('brand')}.\"\n",
    "        for doc, score in response\n",
    "    ])"
   ]
  },
  {
   "cell_type": "code",
   "execution_count": null,
   "id": "fbba4bb6-7549-40dc-aebf-e0dc17c1034e",
   "metadata": {},
   "outputs": [
    {
     "name": "stdout",
     "output_type": "stream",
     "text": [
      "- KüchenPro HeatWave X631: HeatWave X631 es un horno sostenible y ideal para familias numerosas. Incorpora estructura interna modular, lo que lo hace destacar frente a otros modelos de su clase. Su diseño responde a necesidades específicas con un enfoque práctico y funcional. Rating: 2.2. Categoria: Horno. Marca: KüchenPro.\n",
      "- HomeEase HeatMaster Q114: HeatMaster Q114 es un horno versátil y ideal para familias numerosas. Incorpora algoritmos de optimización energética, lo que lo hace destacar frente a otros modelos de su clase. Su diseño responde a necesidades específicas con un enfoque práctico y funcional. Rating: 3.0. Categoria: Horno. Marca: HomeEase.\n",
      "- ChillCore SteamChef Z618: SteamChef Z618 es un horno versátil y ideal para familias numerosas. Incorpora algoritmos de optimización energética, lo que lo hace destacar frente a otros modelos de su clase. Su diseño responde a necesidades específicas con un enfoque práctico y funcional. Rating: 2.6666666666666665. Categoria: Horno. Marca: ChillCore.\n"
     ]
    }
   ],
   "source": [
    "print(kg_product_recommendations(question))"
   ]
  },
  {
   "cell_type": "markdown",
   "id": "5951f206-b092-4dc8-abd6-ee238029cc82",
   "metadata": {},
   "source": [
    "## 4. Generación de Mensaje con LLM  \n",
    "Usamos un `Prompt Template` para:\n",
    "- Listar los productos hallados (con marca y categoría).  \n",
    "- Pedir al modelo que recomiende y explique ventajas.\n",
    "- Usando lenguaje natural."
   ]
  },
  {
   "cell_type": "code",
   "execution_count": null,
   "id": "0337d80e-96de-41b2-b3be-c30d4e558acd",
   "metadata": {},
   "outputs": [],
   "source": [
    "template = '''\n",
    "Eres un asistente de productos de electrodomésticos. El usuario ha preguntado:\n",
    "  \"{user_query}\"\n",
    "\n",
    "Estos son los 3 productos más relevantes encontrados (con descripción):\n",
    "{top_products}\n",
    "\n",
    "Genera una respuesta completa que:\n",
    " - Explique brevemente por qué estos productos son adecuados, indicando en la explicación de cada uno la marca, la categoría y destaque un punto fuerte.\n",
    " - Ordene por el avg_rating de los productos.\n",
    " - Recomiende uno de ellos, el de avg_rating más alto.\n",
    " - Invite al usuario a preguntar más detalles.\n",
    "'''\n",
    "\n",
    "prompt = PromptTemplate(\n",
    "    input_variables=[\"user_query\", \"top_products\"],\n",
    "    template=template\n",
    ")"
   ]
  },
  {
   "cell_type": "markdown",
   "id": "75ff65e6-2261-4035-a3c5-90cd9445cea3",
   "metadata": {},
   "source": [
    "> Inicializa el modelo GPT-4o y configura un flujo (LLMChain) que utiliza ese modelo junto al prompt predefinido."
   ]
  },
  {
   "cell_type": "code",
   "execution_count": null,
   "id": "bd3cd4af-357c-41a6-8167-59188e8afde7",
   "metadata": {},
   "outputs": [],
   "source": [
    "llm = ChatOpenAI(model=\"gpt-4o\", temperature=0.7)\n",
    "chain = LLMChain(llm=llm, prompt=prompt)"
   ]
  },
  {
   "cell_type": "markdown",
   "id": "fccbe708-968a-4952-8044-a240ddacad5b",
   "metadata": {},
   "source": [
    "> Se obtienen las recomendaciones (top_products) y se genera el flujo junto con la consulta del usuario"
   ]
  },
  {
   "cell_type": "code",
   "execution_count": null,
   "id": "a4da5534-73e3-4f6d-bb2e-fd03dd2762e7",
   "metadata": {},
   "outputs": [],
   "source": [
    "def humanized_recommendation(question, k = 3):\n",
    "    top_products = kg_product_recommendations(question)\n",
    "    enriched = chain.predict(user_query=question, top_products=top_products)\n",
    "    return enriched"
   ]
  },
  {
   "cell_type": "code",
   "execution_count": null,
   "id": "3d403426-6443-45cb-9149-4fc8e95acf90",
   "metadata": {},
   "outputs": [],
   "source": [
    "#question = \"\"\"Busco un frigorífico silencioso para un apartamento pequeño.\"\"\"\n",
    "question = \"\"\"¿Qué horno es adecuado para familias numerosas?\"\"\"\n",
    "#question = \"\"\"Quiero un lavavajillas con control por voz.\"\"\"\n",
    "#question = \"\"\"¿Qué lavadora está diseñada para uso frecuente y tiene diseño práctico?\"\"\""
   ]
  },
  {
   "cell_type": "code",
   "execution_count": null,
   "id": "6bcaae74-aa7d-45e1-8ce8-b0639e09d653",
   "metadata": {},
   "outputs": [
    {
     "name": "stdout",
     "output_type": "stream",
     "text": [
      "¡Hola! Aquí tienes tres opciones de hornos que podrían ser adecuados para familias numerosas, ordenados según su calificación promedio:\n",
      "\n",
      "1. **HomeEase HeatMaster Q114**\n",
      "   - **Categoría:** Horno\n",
      "   - **Marca:** HomeEase\n",
      "   - **Punto fuerte:** Este modelo es versátil e incorpora algoritmos de optimización energética, lo que lo hace destacar en eficiencia. Es ideal para familias numerosas gracias a su diseño práctico y funcional.\n",
      "   - **Calificación:** 3.0\n",
      "\n",
      "2. **ChillCore SteamChef Z618**\n",
      "   - **Categoría:** Horno\n",
      "   - **Marca:** ChillCore\n",
      "   - **Punto fuerte:** Este horno también es versátil y está diseñado para satisfacer las necesidades de familias grandes. Se destaca por su enfoque en la optimización energética, asegurando un uso eficiente de los recursos.\n",
      "   - **Calificación:** 2.67\n",
      "\n",
      "3. **KüchenPro HeatWave X631**\n",
      "   - **Categoría:** Horno\n",
      "   - **Marca:** KüchenPro\n",
      "   - **Punto fuerte:** Destaca por su estructura interna modular, lo que le confiere una gran flexibilidad y lo hace ideal para familias numerosas. Este diseño modular permite adaptarse a diferentes necesidades y optimizar el espacio.\n",
      "   - **Calificación:** 2.2\n",
      "\n",
      "**Recomendación:** Te recomendaría considerar el **HomeEase HeatMaster Q114**, ya que tiene la calificación más alta y ofrece una buena combinación de versatilidad y eficiencia energética, lo que lo hace especialmente adecuado para familias numerosas.\n",
      "\n",
      "Si necesitas más detalles sobre alguno de estos productos o cualquier otra información, no dudes en preguntar. Estoy aquí para ayudarte.\n"
     ]
    }
   ],
   "source": [
    "response = humanized_recommendation(question)\n",
    "print(response)"
   ]
  },
  {
   "cell_type": "markdown",
   "id": "a7ba4c83-4f56-4981-a9f1-1c2f7a3bc5eb",
   "metadata": {},
   "source": [
    "graphRAG >> Facilidad y contexto"
   ]
  }
 ],
 "metadata": {
  "colab": {
   "provenance": [
    {
     "file_id": "1ZhlytXFXn2FXhwkoyRkAcQCR1oBAh8uC",
     "timestamp": 1748161741002
    }
   ]
  },
  "jupytext": {
   "cell_metadata_filter": "-all",
   "main_language": "python",
   "notebook_metadata_filter": "-all"
  },
  "kernelspec": {
   "display_name": "Python (venv)",
   "language": "python",
   "name": "venv"
  },
  "language_info": {
   "codemirror_mode": {
    "name": "ipython",
    "version": 3
   },
   "file_extension": ".py",
   "mimetype": "text/x-python",
   "name": "python",
   "nbconvert_exporter": "python",
   "pygments_lexer": "ipython3",
   "version": "3.13.3"
  }
 },
 "nbformat": 4,
 "nbformat_minor": 5
}
